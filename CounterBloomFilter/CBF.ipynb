{
 "cells": [
  {
   "cell_type": "code",
   "execution_count": 176,
   "id": "fd169c8c",
   "metadata": {},
   "outputs": [],
   "source": [
    "import hashlib\n",
    "import re"
   ]
  },
  {
   "cell_type": "code",
   "execution_count": 177,
   "id": "532f1720",
   "metadata": {},
   "outputs": [],
   "source": [
    "array = [0] * 16"
   ]
  },
  {
   "cell_type": "code",
   "execution_count": 178,
   "id": "a3f81e88",
   "metadata": {},
   "outputs": [
    {
     "data": {
      "text/plain": [
       "[0, 0, 0, 0, 0, 0, 0, 0, 0, 0, 0, 0, 0, 0, 0, 0]"
      ]
     },
     "execution_count": 178,
     "metadata": {},
     "output_type": "execute_result"
    }
   ],
   "source": [
    "array"
   ]
  },
  {
   "cell_type": "code",
   "execution_count": 179,
   "id": "aba966f0",
   "metadata": {},
   "outputs": [],
   "source": [
    "def hashing(element):\n",
    "    keys = []\n",
    "    hash1 = hashlib.md5(element.encode()) \n",
    "    hash2 = hashlib.sha1(element.encode())\n",
    "    keys.append(int(hash1.hexdigest(), 16))  \n",
    "    keys.append(int(hash2.hexdigest(), 16))\n",
    "    return keys"
   ]
  },
  {
   "cell_type": "code",
   "execution_count": 180,
   "id": "bd86d37d",
   "metadata": {},
   "outputs": [],
   "source": [
    "def add(element):\n",
    "    key = 0 \n",
    "    keys = hashing(element)\n",
    "    for i in range(2): \n",
    "        key = int(keys [i] % 16) \n",
    "        array[key] += 1  "
   ]
  },
  {
   "cell_type": "code",
   "execution_count": 191,
   "id": "f6227910",
   "metadata": {},
   "outputs": [],
   "source": [
    "def search(element):  \n",
    "    keys = hashing(element)\n",
    "    key = 0\n",
    "    inArray = True\n",
    "    for i in range(2):\n",
    "        key = int(keys[i] % 16)\n",
    "        if (array[key] == 0): \n",
    "            inArray = False \n",
    "    return inArray "
   ]
  },
  {
   "cell_type": "code",
   "execution_count": 182,
   "id": "89249638",
   "metadata": {},
   "outputs": [],
   "source": [
    "def words(text):\n",
    "    words = []\n",
    "    with open(text, \"r\", encoding=\"utf-8\") as file: \n",
    "        for line in file.readlines():\n",
    "            string = re.sub(\"[^\\w\\s]\", \"\", line)\n",
    "            words_in_line = string.split()\n",
    "            words = words + words_in_line\n",
    "        return words"
   ]
  },
  {
   "cell_type": "code",
   "execution_count": 183,
   "id": "0cbebb20",
   "metadata": {},
   "outputs": [
    {
     "data": {
      "text/plain": [
       "1778"
      ]
     },
     "execution_count": 183,
     "metadata": {},
     "output_type": "execute_result"
    }
   ],
   "source": [
    "len(words('text.txt'))"
   ]
  },
  {
   "cell_type": "code",
   "execution_count": 184,
   "id": "1a01f6a1",
   "metadata": {},
   "outputs": [],
   "source": [
    "for i in range(len(words('text.txt'))):\n",
    "    add(words('text.txt')[i])"
   ]
  },
  {
   "cell_type": "code",
   "execution_count": 185,
   "id": "5062e9af",
   "metadata": {},
   "outputs": [
    {
     "data": {
      "text/plain": [
       "[183,\n",
       " 212,\n",
       " 196,\n",
       " 293,\n",
       " 159,\n",
       " 189,\n",
       " 223,\n",
       " 248,\n",
       " 153,\n",
       " 205,\n",
       " 249,\n",
       " 260,\n",
       " 243,\n",
       " 280,\n",
       " 228,\n",
       " 235]"
      ]
     },
     "execution_count": 185,
     "metadata": {},
     "output_type": "execute_result"
    }
   ],
   "source": [
    "array"
   ]
  },
  {
   "cell_type": "code",
   "execution_count": 192,
   "id": "d7edd6d2",
   "metadata": {},
   "outputs": [
    {
     "data": {
      "text/plain": [
       "True"
      ]
     },
     "execution_count": 192,
     "metadata": {},
     "output_type": "execute_result"
    }
   ],
   "source": [
    "search('волхвы')"
   ]
  },
  {
   "cell_type": "code",
   "execution_count": 193,
   "id": "befb60bd",
   "metadata": {},
   "outputs": [
    {
     "data": {
      "text/plain": [
       "True"
      ]
     },
     "execution_count": 193,
     "metadata": {},
     "output_type": "execute_result"
    }
   ],
   "source": [
    "search('семь')"
   ]
  },
  {
   "cell_type": "code",
   "execution_count": 194,
   "id": "ac4f9c69",
   "metadata": {},
   "outputs": [
    {
     "data": {
      "text/plain": [
       "True"
      ]
     },
     "execution_count": 194,
     "metadata": {},
     "output_type": "execute_result"
    }
   ],
   "source": [
    "search('monkey')"
   ]
  },
  {
   "cell_type": "code",
   "execution_count": 195,
   "id": "1accd9d1",
   "metadata": {},
   "outputs": [
    {
     "data": {
      "text/plain": [
       "True"
      ]
     },
     "execution_count": 195,
     "metadata": {},
     "output_type": "execute_result"
    }
   ],
   "source": [
    "search('ghghkjkjnlkknd')"
   ]
  },
  {
   "cell_type": "code",
   "execution_count": 196,
   "id": "9350d40e",
   "metadata": {},
   "outputs": [
    {
     "data": {
      "text/plain": [
       "True"
      ]
     },
     "execution_count": 196,
     "metadata": {},
     "output_type": "execute_result"
    }
   ],
   "source": [
    "search('увсамприолдлорпапсмиротльд')"
   ]
  },
  {
   "cell_type": "code",
   "execution_count": null,
   "id": "f8353d3c",
   "metadata": {},
   "outputs": [],
   "source": []
  }
 ],
 "metadata": {
  "kernelspec": {
   "display_name": "Python 3",
   "language": "python",
   "name": "python3"
  },
  "language_info": {
   "codemirror_mode": {
    "name": "ipython",
    "version": 3
   },
   "file_extension": ".py",
   "mimetype": "text/x-python",
   "name": "python",
   "nbconvert_exporter": "python",
   "pygments_lexer": "ipython3",
   "version": "3.8.8"
  }
 },
 "nbformat": 4,
 "nbformat_minor": 5
}
